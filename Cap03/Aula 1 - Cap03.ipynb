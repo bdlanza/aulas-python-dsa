{
 "cells": [
  {
   "cell_type": "markdown",
   "metadata": {},
   "source": [
    "### Programando uma Calculadora de Área de Paralelograma"
   ]
  },
  {
   "cell_type": "code",
   "execution_count": 6,
   "metadata": {},
   "outputs": [
    {
     "name": "stdout",
     "output_type": "stream",
     "text": [
      "Bem-vindo ao Calculador de Área de Paralelograma\n"
     ]
    }
   ],
   "source": [
    "print(\"Bem-vindo ao Calculador de Área de Paralelograma\")"
   ]
  },
  {
   "cell_type": "code",
   "execution_count": 7,
   "metadata": {},
   "outputs": [],
   "source": [
    "base = float(input(\"Insira o comprimento da base: \"))"
   ]
  },
  {
   "cell_type": "code",
   "execution_count": 8,
   "metadata": {},
   "outputs": [],
   "source": [
    "altura = float(input(\"Insira a altura:\"))"
   ]
  },
  {
   "cell_type": "code",
   "execution_count": 9,
   "metadata": {},
   "outputs": [],
   "source": [
    "area = base * altura"
   ]
  },
  {
   "cell_type": "code",
   "execution_count": 10,
   "metadata": {},
   "outputs": [
    {
     "name": "stdout",
     "output_type": "stream",
     "text": [
      "A área do paralelograma é:  36.0\n"
     ]
    }
   ],
   "source": [
    "print(\"A área do paralelograma é: \", area)"
   ]
  },
  {
   "cell_type": "markdown",
   "metadata": {},
   "source": [
    "### Programando uma Calculadora Simples"
   ]
  },
  {
   "cell_type": "code",
   "execution_count": 1,
   "metadata": {},
   "outputs": [
    {
     "name": "stdout",
     "output_type": "stream",
     "text": [
      "Bem-vindo à Calculadora\n",
      "Digita o número da operação desejada: \n",
      "Operação Inválida\n"
     ]
    }
   ],
   "source": [
    "print(\"Bem-vindo à Calculadora\")\n",
    "primeiro_numero = float(input(\"Insira o primeiro número: \"))\n",
    "segundo_numero = float(input(\"Insira o segundo número: \"))\n",
    "print(\"Digita o número da operação desejada: \")\n",
    "operacao = input(\"1 - Adição\\n 2 - Subtração\\n 3 - Multiplicação \\n 4 - Divisão\")\n",
    "if operacao == \"1\":\n",
    "    print(\"Resultado\", primeiro_numero + segundo_numero)\n",
    "elif operacao == \"2\":\n",
    "    print(\"Resultado\", primeiro_numero - segundo_numero)\n",
    "elif operacao == \"3\":\n",
    "    print(\"Resultado\", primeiro_numero * segundo_numero)\n",
    "elif operacao == 4:\n",
    "    print(\"Resultado\", primeiro_numero / segundo_numero)\n",
    "else:\n",
    "    print(\"Operação Inválida\")\n"
   ]
  },
  {
   "cell_type": "markdown",
   "metadata": {},
   "source": [
    "### Pseudocódigo e Código Python - Algoritmo Bubble Sort\n",
    "\n",
    "Inicie  \n",
    "    Para cada elemento i no array de tamanho n\n",
    "        Para cada elemento j no array de tamanho n-1\n",
    "            Se o elemento i for maior que elemento j\n",
    "                Troque os elementos i e j\n",
    "    Exiba o array ordenado\n",
    "Fim"
   ]
  },
  {
   "cell_type": "code",
   "execution_count": 2,
   "metadata": {},
   "outputs": [
    {
     "name": "stdout",
     "output_type": "stream",
     "text": [
      "[0, 2, 3, 3, 5, 9, 9, 10, 11]\n"
     ]
    }
   ],
   "source": [
    "# Bubble Sort 1 (Funciona mas não é a melhor opção)\n",
    "\n",
    "lista = [11,3,3,5,2,9,10,9,0]\n",
    "\n",
    "trocar = True\n",
    "\n",
    "while trocar == True:\n",
    "\n",
    "    contador = 0\n",
    "\n",
    "    for index in range(0, len(lista)):\n",
    "        if index == len(lista) - 1:\n",
    "            continue\n",
    "        else:\n",
    "            if lista[index] > lista[index + 1]:\n",
    "                temp = lista[index]\n",
    "                lista[index] = lista[index + 1]\n",
    "                lista[index + 1] = temp\n",
    "                contador = contador + 1\n",
    "            else:\n",
    "                continue\n",
    "    \n",
    "    if contador == 0:\n",
    "        trocar = False\n",
    "    else:\n",
    "        trocar = True\n",
    "\n",
    "print(lista)"
   ]
  },
  {
   "cell_type": "code",
   "execution_count": 3,
   "metadata": {},
   "outputs": [
    {
     "name": "stdout",
     "output_type": "stream",
     "text": [
      "[0, 2, 3, 3, 5, 9, 9, 10, 11]\n"
     ]
    }
   ],
   "source": [
    "# Bubble Sort 2 (Algoritmo Ideal)\n",
    "\n",
    "def bubble_sort(arr):\n",
    "    n = len(arr)\n",
    "\n",
    "    for i in range(n):\n",
    "        for j in range(0, n-i-1):\n",
    "            if arr[j] > arr[j+1]:\n",
    "                arr[j], arr[j+1] = arr[j+1], arr[j]\n",
    "    \n",
    "    return arr\n",
    "\n",
    "lista2 = [11,3,3,5,2,9,10,9,0]\n",
    "\n",
    "print(bubble_sort(lista2))"
   ]
  }
 ],
 "metadata": {
  "kernelspec": {
   "display_name": "base",
   "language": "python",
   "name": "python3"
  },
  "language_info": {
   "codemirror_mode": {
    "name": "ipython",
    "version": 3
   },
   "file_extension": ".py",
   "mimetype": "text/x-python",
   "name": "python",
   "nbconvert_exporter": "python",
   "pygments_lexer": "ipython3",
   "version": "3.9.13"
  }
 },
 "nbformat": 4,
 "nbformat_minor": 2
}
