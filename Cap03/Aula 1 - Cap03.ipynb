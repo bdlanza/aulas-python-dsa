{
 "cells": [
  {
   "cell_type": "markdown",
   "metadata": {},
   "source": [
    "### Programando uma Calculadora de Área de Paralelograma"
   ]
  },
  {
   "cell_type": "code",
   "execution_count": 6,
   "metadata": {},
   "outputs": [
    {
     "name": "stdout",
     "output_type": "stream",
     "text": [
      "Bem-vindo ao Calculador de Área de Paralelograma\n"
     ]
    }
   ],
   "source": [
    "print(\"Bem-vindo ao Calculador de Área de Paralelograma\")"
   ]
  },
  {
   "cell_type": "code",
   "execution_count": 7,
   "metadata": {},
   "outputs": [],
   "source": [
    "base = float(input(\"Insira o comprimento da base: \"))"
   ]
  },
  {
   "cell_type": "code",
   "execution_count": 8,
   "metadata": {},
   "outputs": [],
   "source": [
    "altura = float(input(\"Insira a altura:\"))"
   ]
  },
  {
   "cell_type": "code",
   "execution_count": 9,
   "metadata": {},
   "outputs": [],
   "source": [
    "area = base * altura"
   ]
  },
  {
   "cell_type": "code",
   "execution_count": 10,
   "metadata": {},
   "outputs": [
    {
     "name": "stdout",
     "output_type": "stream",
     "text": [
      "A área do paralelograma é:  36.0\n"
     ]
    }
   ],
   "source": [
    "print(\"A área do paralelograma é: \", area)"
   ]
  },
  {
   "cell_type": "markdown",
   "metadata": {},
   "source": [
    "### Programando uma Calculadora Simples"
   ]
  },
  {
   "cell_type": "code",
   "execution_count": 13,
   "metadata": {},
   "outputs": [
    {
     "name": "stdout",
     "output_type": "stream",
     "text": [
      "Bem-vindo à Calculadora\n",
      "Digita o número da operação desejada: \n",
      "Resultado 100.0\n"
     ]
    }
   ],
   "source": [
    "print(\"Bem-vindo à Calculadora\")\n",
    "primeiro_numero = float(input(\"Insira o primeiro número: \"))\n",
    "segundo_numero = float(input(\"Insira o segundo número: \"))\n",
    "print(\"Digita o número da operação desejada: \")\n",
    "operacao = input(\"1 - Adição\\n 2 - Subtração\\n 3 - Multiplicação \\n 4 - Divisão\")\n",
    "if operacao == \"1\":\n",
    "    print(\"Resultado\", primeiro_numero + segundo_numero)\n",
    "elif operacao == \"2\":\n",
    "    print(\"Resultado\", primeiro_numero - segundo_numero)\n",
    "elif operacao == \"3\":\n",
    "    print(\"Resultado\", primeiro_numero * segundo_numero)\n",
    "else:\n",
    "    print(\"Resultado\", primeiro_numero / segundo_numero)"
   ]
  }
 ],
 "metadata": {
  "kernelspec": {
   "display_name": "base",
   "language": "python",
   "name": "python3"
  },
  "language_info": {
   "codemirror_mode": {
    "name": "ipython",
    "version": 3
   },
   "file_extension": ".py",
   "mimetype": "text/x-python",
   "name": "python",
   "nbconvert_exporter": "python",
   "pygments_lexer": "ipython3",
   "version": "3.9.13"
  }
 },
 "nbformat": 4,
 "nbformat_minor": 2
}
